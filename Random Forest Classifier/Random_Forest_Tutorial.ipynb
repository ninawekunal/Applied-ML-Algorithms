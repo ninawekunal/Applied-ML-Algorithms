{
  "nbformat": 4,
  "nbformat_minor": 0,
  "metadata": {
    "colab": {
      "name": "Random_Forest_Tutorial.ipynb",
      "provenance": [],
      "toc_visible": true
    },
    "kernelspec": {
      "name": "python3",
      "display_name": "Python 3"
    },
    "language_info": {
      "name": "python"
    }
  },
  "cells": [
    {
      "cell_type": "markdown",
      "metadata": {
        "id": "-AEGc0ueLLoX"
      },
      "source": [
        "#**Random Forest Classifier Tutorial:**"
      ]
    },
    {
      "cell_type": "code",
      "metadata": {
        "id": "mqzoxpxILJnQ"
      },
      "source": [
        "import pandas as pd\n",
        "import numpy as np\n",
        "from sklearn.ensemble import RandomForestClassifier, RandomForestRegressor\n",
        "from sklearn.model_selection import GridSearchCV\n",
        "import joblib"
      ],
      "execution_count": 1,
      "outputs": []
    },
    {
      "cell_type": "markdown",
      "metadata": {
        "id": "52oH2tEeNTvY"
      },
      "source": [
        "###**Read titanic data stored previously:**"
      ]
    },
    {
      "cell_type": "code",
      "metadata": {
        "id": "nlxibS-0NSHs"
      },
      "source": [
        "Xtr = pd.read_csv('Xtr.csv')\n",
        "ytr = pd.read_csv('ytr.csv')"
      ],
      "execution_count": 3,
      "outputs": []
    },
    {
      "cell_type": "code",
      "metadata": {
        "colab": {
          "base_uri": "https://localhost:8080/"
        },
        "id": "UawAw7kWNi13",
        "outputId": "a279b472-1791-47ee-a0c9-9ca7c4015f05"
      },
      "source": [
        "print(Xtr.shape)\n",
        "print(ytr.shape)"
      ],
      "execution_count": 4,
      "outputs": [
        {
          "output_type": "stream",
          "text": [
            "(534, 6)\n",
            "(534, 1)\n"
          ],
          "name": "stdout"
        }
      ]
    },
    {
      "cell_type": "markdown",
      "metadata": {
        "id": "ItQlY-UBOoW-"
      },
      "source": [
        "####**Function to print grid search cv's accuracy for each value of C:**"
      ]
    },
    {
      "cell_type": "code",
      "metadata": {
        "id": "76s7suKWFi74"
      },
      "source": [
        "def print_results(results):\n",
        "    print('BEST PARAMS: {}\\n'.format(results.best_params_))\n",
        "\n",
        "    means = results.cv_results_['mean_test_score']\n",
        "    stds = results.cv_results_['std_test_score']\n",
        "    for mean, std, params in zip(means, stds, results.cv_results_['params']):\n",
        "        print('{} (+/-{}) for {}'.format(round(mean, 3), round(std * 2, 3), params))"
      ],
      "execution_count": 5,
      "outputs": []
    },
    {
      "cell_type": "code",
      "metadata": {
        "colab": {
          "base_uri": "https://localhost:8080/"
        },
        "id": "He7NB6ORPBro",
        "outputId": "8afe42fe-5fbc-4bf2-cfe7-34063f2d700c"
      },
      "source": [
        "print(RandomForestClassifier())"
      ],
      "execution_count": 6,
      "outputs": [
        {
          "output_type": "stream",
          "text": [
            "RandomForestClassifier(bootstrap=True, ccp_alpha=0.0, class_weight=None,\n",
            "                       criterion='gini', max_depth=None, max_features='auto',\n",
            "                       max_leaf_nodes=None, max_samples=None,\n",
            "                       min_impurity_decrease=0.0, min_impurity_split=None,\n",
            "                       min_samples_leaf=1, min_samples_split=2,\n",
            "                       min_weight_fraction_leaf=0.0, n_estimators=100,\n",
            "                       n_jobs=None, oob_score=False, random_state=None,\n",
            "                       verbose=0, warm_start=False)\n"
          ],
          "name": "stdout"
        }
      ]
    },
    {
      "cell_type": "code",
      "metadata": {
        "colab": {
          "base_uri": "https://localhost:8080/"
        },
        "id": "IXkmMZbgXOeW",
        "outputId": "72c28297-ac74-4373-9369-9db62f7ee4e0"
      },
      "source": [
        "parameters = {\n",
        "    'n_estimators': [5, 50, 250],\n",
        "    'max_depth': [2, 4, 8, 16, 32, None],\n",
        "}\n",
        "\n",
        "cv = GridSearchCV(RandomForestClassifier(), param_grid=parameters, cv=5)\n",
        "cv.fit(Xtr, ytr['Survived'].values)"
      ],
      "execution_count": 7,
      "outputs": [
        {
          "output_type": "execute_result",
          "data": {
            "text/plain": [
              "GridSearchCV(cv=5, error_score=nan,\n",
              "             estimator=RandomForestClassifier(bootstrap=True, ccp_alpha=0.0,\n",
              "                                              class_weight=None,\n",
              "                                              criterion='gini', max_depth=None,\n",
              "                                              max_features='auto',\n",
              "                                              max_leaf_nodes=None,\n",
              "                                              max_samples=None,\n",
              "                                              min_impurity_decrease=0.0,\n",
              "                                              min_impurity_split=None,\n",
              "                                              min_samples_leaf=1,\n",
              "                                              min_samples_split=2,\n",
              "                                              min_weight_fraction_leaf=0.0,\n",
              "                                              n_estimators=100, n_jobs=None,\n",
              "                                              oob_score=False,\n",
              "                                              random_state=None, verbose=0,\n",
              "                                              warm_start=False),\n",
              "             iid='deprecated', n_jobs=None,\n",
              "             param_grid={'max_depth': [2, 4, 8, 16, 32, None],\n",
              "                         'n_estimators': [5, 50, 250]},\n",
              "             pre_dispatch='2*n_jobs', refit=True, return_train_score=False,\n",
              "             scoring=None, verbose=0)"
            ]
          },
          "metadata": {
            "tags": []
          },
          "execution_count": 7
        }
      ]
    },
    {
      "cell_type": "code",
      "metadata": {
        "colab": {
          "base_uri": "https://localhost:8080/"
        },
        "id": "zBQdAFtxZVXQ",
        "outputId": "1d85bcb9-5eca-4c14-859a-5412a4f74196"
      },
      "source": [
        "print_results(cv)"
      ],
      "execution_count": 8,
      "outputs": [
        {
          "output_type": "stream",
          "text": [
            "BEST PARAMS: {'max_depth': 4, 'n_estimators': 50}\n",
            "\n",
            "0.775 (+/-0.135) for {'max_depth': 2, 'n_estimators': 5}\n",
            "0.79 (+/-0.102) for {'max_depth': 2, 'n_estimators': 50}\n",
            "0.8 (+/-0.115) for {'max_depth': 2, 'n_estimators': 250}\n",
            "0.805 (+/-0.105) for {'max_depth': 4, 'n_estimators': 5}\n",
            "0.828 (+/-0.112) for {'max_depth': 4, 'n_estimators': 50}\n",
            "0.822 (+/-0.107) for {'max_depth': 4, 'n_estimators': 250}\n",
            "0.824 (+/-0.079) for {'max_depth': 8, 'n_estimators': 5}\n",
            "0.82 (+/-0.076) for {'max_depth': 8, 'n_estimators': 50}\n",
            "0.817 (+/-0.079) for {'max_depth': 8, 'n_estimators': 250}\n",
            "0.822 (+/-0.026) for {'max_depth': 16, 'n_estimators': 5}\n",
            "0.815 (+/-0.031) for {'max_depth': 16, 'n_estimators': 50}\n",
            "0.805 (+/-0.027) for {'max_depth': 16, 'n_estimators': 250}\n",
            "0.794 (+/-0.059) for {'max_depth': 32, 'n_estimators': 5}\n",
            "0.809 (+/-0.051) for {'max_depth': 32, 'n_estimators': 50}\n",
            "0.813 (+/-0.026) for {'max_depth': 32, 'n_estimators': 250}\n",
            "0.772 (+/-0.044) for {'max_depth': None, 'n_estimators': 5}\n",
            "0.813 (+/-0.035) for {'max_depth': None, 'n_estimators': 50}\n",
            "0.807 (+/-0.022) for {'max_depth': None, 'n_estimators': 250}\n"
          ],
          "name": "stdout"
        }
      ]
    },
    {
      "cell_type": "code",
      "metadata": {
        "colab": {
          "base_uri": "https://localhost:8080/"
        },
        "id": "pcRQYWnNPr-O",
        "outputId": "f0633c3b-0a9f-4684-f15e-f93fdb35be66"
      },
      "source": [
        "model = cv.best_estimator_\n",
        "model"
      ],
      "execution_count": 9,
      "outputs": [
        {
          "output_type": "execute_result",
          "data": {
            "text/plain": [
              "RandomForestClassifier(bootstrap=True, ccp_alpha=0.0, class_weight=None,\n",
              "                       criterion='gini', max_depth=4, max_features='auto',\n",
              "                       max_leaf_nodes=None, max_samples=None,\n",
              "                       min_impurity_decrease=0.0, min_impurity_split=None,\n",
              "                       min_samples_leaf=1, min_samples_split=2,\n",
              "                       min_weight_fraction_leaf=0.0, n_estimators=50,\n",
              "                       n_jobs=None, oob_score=False, random_state=None,\n",
              "                       verbose=0, warm_start=False)"
            ]
          },
          "metadata": {
            "tags": []
          },
          "execution_count": 9
        }
      ]
    },
    {
      "cell_type": "markdown",
      "metadata": {
        "id": "3GFrILBkRQsu"
      },
      "source": [
        "####**Pickle the model:**"
      ]
    },
    {
      "cell_type": "code",
      "metadata": {
        "colab": {
          "base_uri": "https://localhost:8080/"
        },
        "id": "bMFEBfjjRPvx",
        "outputId": "b3772662-4350-4777-a979-f874921735fd"
      },
      "source": [
        "joblib.dump(model, 'RF_model.pkl')"
      ],
      "execution_count": 11,
      "outputs": [
        {
          "output_type": "execute_result",
          "data": {
            "text/plain": [
              "['RF_model.pkl']"
            ]
          },
          "metadata": {
            "tags": []
          },
          "execution_count": 11
        }
      ]
    }
  ]
}