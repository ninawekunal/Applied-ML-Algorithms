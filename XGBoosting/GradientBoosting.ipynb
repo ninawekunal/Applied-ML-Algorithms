{
  "nbformat": 4,
  "nbformat_minor": 0,
  "metadata": {
    "colab": {
      "name": "GradientBoosting.ipynb",
      "provenance": [],
      "toc_visible": true
    },
    "kernelspec": {
      "name": "python3",
      "display_name": "Python 3"
    },
    "language_info": {
      "name": "python"
    }
  },
  "cells": [
    {
      "cell_type": "markdown",
      "metadata": {
        "id": "-AEGc0ueLLoX"
      },
      "source": [
        "#**Gradient Boosting Tutorial:**"
      ]
    },
    {
      "cell_type": "code",
      "metadata": {
        "id": "mqzoxpxILJnQ"
      },
      "source": [
        "import pandas as pd\n",
        "import numpy as np\n",
        "from sklearn.ensemble import GradientBoostingClassifier, GradientBoostingRegressor\n",
        "from sklearn.model_selection import GridSearchCV\n",
        "import joblib"
      ],
      "execution_count": 1,
      "outputs": []
    },
    {
      "cell_type": "markdown",
      "metadata": {
        "id": "52oH2tEeNTvY"
      },
      "source": [
        "###**Read titanic data stored previously:**"
      ]
    },
    {
      "cell_type": "code",
      "metadata": {
        "id": "nlxibS-0NSHs"
      },
      "source": [
        "Xtr = pd.read_csv('Xtr.csv')\n",
        "ytr = pd.read_csv('ytr.csv')"
      ],
      "execution_count": 3,
      "outputs": []
    },
    {
      "cell_type": "code",
      "metadata": {
        "colab": {
          "base_uri": "https://localhost:8080/"
        },
        "id": "UawAw7kWNi13",
        "outputId": "56217522-f35d-4f8e-a262-de5956ae3b0e"
      },
      "source": [
        "print(Xtr.shape)\n",
        "print(ytr.shape)"
      ],
      "execution_count": 4,
      "outputs": [
        {
          "output_type": "stream",
          "text": [
            "(534, 6)\n",
            "(534, 1)\n"
          ],
          "name": "stdout"
        }
      ]
    },
    {
      "cell_type": "markdown",
      "metadata": {
        "id": "ItQlY-UBOoW-"
      },
      "source": [
        "####**Function to print grid search cv's accuracy for each value of C:**"
      ]
    },
    {
      "cell_type": "code",
      "metadata": {
        "id": "76s7suKWFi74"
      },
      "source": [
        "def print_results(results):\n",
        "    print('BEST PARAMS: {}\\n'.format(results.best_params_))\n",
        "\n",
        "    means = results.cv_results_['mean_test_score']\n",
        "    stds = results.cv_results_['std_test_score']\n",
        "    for mean, std, params in zip(means, stds, results.cv_results_['params']):\n",
        "        print('{} (+/-{}) for {}'.format(round(mean, 3), round(std * 2, 3), params))"
      ],
      "execution_count": 5,
      "outputs": []
    },
    {
      "cell_type": "code",
      "metadata": {
        "colab": {
          "base_uri": "https://localhost:8080/"
        },
        "id": "He7NB6ORPBro",
        "outputId": "d122866f-1f2a-4f9e-91d4-cdaa1622511d"
      },
      "source": [
        "print(GradientBoostingClassifier())"
      ],
      "execution_count": 6,
      "outputs": [
        {
          "output_type": "stream",
          "text": [
            "GradientBoostingClassifier(ccp_alpha=0.0, criterion='friedman_mse', init=None,\n",
            "                           learning_rate=0.1, loss='deviance', max_depth=3,\n",
            "                           max_features=None, max_leaf_nodes=None,\n",
            "                           min_impurity_decrease=0.0, min_impurity_split=None,\n",
            "                           min_samples_leaf=1, min_samples_split=2,\n",
            "                           min_weight_fraction_leaf=0.0, n_estimators=100,\n",
            "                           n_iter_no_change=None, presort='deprecated',\n",
            "                           random_state=None, subsample=1.0, tol=0.0001,\n",
            "                           validation_fraction=0.1, verbose=0,\n",
            "                           warm_start=False)\n"
          ],
          "name": "stdout"
        }
      ]
    },
    {
      "cell_type": "code",
      "metadata": {
        "colab": {
          "base_uri": "https://localhost:8080/"
        },
        "id": "IXkmMZbgXOeW",
        "outputId": "0119a5a4-df1f-4111-8cc1-dafd6e535ee7"
      },
      "source": [
        "parameters = {\n",
        "    'n_estimators': [5, 50, 250, 500],\n",
        "    'max_depth': [1, 3, 5, 7, 9],\n",
        "    'learning_rate': [0.01, 0.1, 1, 10, 100]\n",
        "}\n",
        "\n",
        "cv = GridSearchCV(GradientBoostingClassifier(), param_grid=parameters, cv=5)\n",
        "cv.fit(Xtr, ytr['Survived'].values)"
      ],
      "execution_count": 7,
      "outputs": [
        {
          "output_type": "execute_result",
          "data": {
            "text/plain": [
              "GridSearchCV(cv=5, error_score=nan,\n",
              "             estimator=GradientBoostingClassifier(ccp_alpha=0.0,\n",
              "                                                  criterion='friedman_mse',\n",
              "                                                  init=None, learning_rate=0.1,\n",
              "                                                  loss='deviance', max_depth=3,\n",
              "                                                  max_features=None,\n",
              "                                                  max_leaf_nodes=None,\n",
              "                                                  min_impurity_decrease=0.0,\n",
              "                                                  min_impurity_split=None,\n",
              "                                                  min_samples_leaf=1,\n",
              "                                                  min_samples_split=2,\n",
              "                                                  min_weight_fraction_leaf=0.0,\n",
              "                                                  n_estimators=100,\n",
              "                                                  n_iter_no_change=None,\n",
              "                                                  presort='deprecated',\n",
              "                                                  random_state=None,\n",
              "                                                  subsample=1.0, tol=0.0001,\n",
              "                                                  validation_fraction=0.1,\n",
              "                                                  verbose=0, warm_start=False),\n",
              "             iid='deprecated', n_jobs=None,\n",
              "             param_grid={'learning_rate': [0.01, 0.1, 1, 10, 100],\n",
              "                         'max_depth': [1, 3, 5, 7, 9],\n",
              "                         'n_estimators': [5, 50, 250, 500]},\n",
              "             pre_dispatch='2*n_jobs', refit=True, return_train_score=False,\n",
              "             scoring=None, verbose=0)"
            ]
          },
          "metadata": {
            "tags": []
          },
          "execution_count": 7
        }
      ]
    },
    {
      "cell_type": "code",
      "metadata": {
        "colab": {
          "base_uri": "https://localhost:8080/"
        },
        "id": "zBQdAFtxZVXQ",
        "outputId": "e44df0d6-5602-48f0-88a3-c1cbb0c7e1ce"
      },
      "source": [
        "print_results(cv)"
      ],
      "execution_count": 8,
      "outputs": [
        {
          "output_type": "stream",
          "text": [
            "BEST PARAMS: {'learning_rate': 0.01, 'max_depth': 3, 'n_estimators': 500}\n",
            "\n",
            "0.624 (+/-0.007) for {'learning_rate': 0.01, 'max_depth': 1, 'n_estimators': 5}\n",
            "0.796 (+/-0.115) for {'learning_rate': 0.01, 'max_depth': 1, 'n_estimators': 50}\n",
            "0.796 (+/-0.115) for {'learning_rate': 0.01, 'max_depth': 1, 'n_estimators': 250}\n",
            "0.811 (+/-0.117) for {'learning_rate': 0.01, 'max_depth': 1, 'n_estimators': 500}\n",
            "0.624 (+/-0.007) for {'learning_rate': 0.01, 'max_depth': 3, 'n_estimators': 5}\n",
            "0.811 (+/-0.069) for {'learning_rate': 0.01, 'max_depth': 3, 'n_estimators': 50}\n",
            "0.83 (+/-0.074) for {'learning_rate': 0.01, 'max_depth': 3, 'n_estimators': 250}\n",
            "0.841 (+/-0.077) for {'learning_rate': 0.01, 'max_depth': 3, 'n_estimators': 500}\n",
            "0.624 (+/-0.007) for {'learning_rate': 0.01, 'max_depth': 5, 'n_estimators': 5}\n",
            "0.822 (+/-0.052) for {'learning_rate': 0.01, 'max_depth': 5, 'n_estimators': 50}\n",
            "0.82 (+/-0.037) for {'learning_rate': 0.01, 'max_depth': 5, 'n_estimators': 250}\n",
            "0.828 (+/-0.047) for {'learning_rate': 0.01, 'max_depth': 5, 'n_estimators': 500}\n",
            "0.624 (+/-0.007) for {'learning_rate': 0.01, 'max_depth': 7, 'n_estimators': 5}\n",
            "0.817 (+/-0.05) for {'learning_rate': 0.01, 'max_depth': 7, 'n_estimators': 50}\n",
            "0.818 (+/-0.04) for {'learning_rate': 0.01, 'max_depth': 7, 'n_estimators': 250}\n",
            "0.796 (+/-0.028) for {'learning_rate': 0.01, 'max_depth': 7, 'n_estimators': 500}\n",
            "0.624 (+/-0.007) for {'learning_rate': 0.01, 'max_depth': 9, 'n_estimators': 5}\n",
            "0.803 (+/-0.059) for {'learning_rate': 0.01, 'max_depth': 9, 'n_estimators': 50}\n",
            "0.8 (+/-0.045) for {'learning_rate': 0.01, 'max_depth': 9, 'n_estimators': 250}\n",
            "0.79 (+/-0.046) for {'learning_rate': 0.01, 'max_depth': 9, 'n_estimators': 500}\n",
            "0.796 (+/-0.115) for {'learning_rate': 0.1, 'max_depth': 1, 'n_estimators': 5}\n",
            "0.815 (+/-0.119) for {'learning_rate': 0.1, 'max_depth': 1, 'n_estimators': 50}\n",
            "0.818 (+/-0.111) for {'learning_rate': 0.1, 'max_depth': 1, 'n_estimators': 250}\n",
            "0.828 (+/-0.092) for {'learning_rate': 0.1, 'max_depth': 1, 'n_estimators': 500}\n",
            "0.813 (+/-0.071) for {'learning_rate': 0.1, 'max_depth': 3, 'n_estimators': 5}\n",
            "0.839 (+/-0.076) for {'learning_rate': 0.1, 'max_depth': 3, 'n_estimators': 50}\n",
            "0.83 (+/-0.035) for {'learning_rate': 0.1, 'max_depth': 3, 'n_estimators': 250}\n",
            "0.811 (+/-0.036) for {'learning_rate': 0.1, 'max_depth': 3, 'n_estimators': 500}\n",
            "0.815 (+/-0.044) for {'learning_rate': 0.1, 'max_depth': 5, 'n_estimators': 5}\n",
            "0.818 (+/-0.03) for {'learning_rate': 0.1, 'max_depth': 5, 'n_estimators': 50}\n",
            "0.802 (+/-0.049) for {'learning_rate': 0.1, 'max_depth': 5, 'n_estimators': 250}\n",
            "0.794 (+/-0.039) for {'learning_rate': 0.1, 'max_depth': 5, 'n_estimators': 500}\n",
            "0.822 (+/-0.056) for {'learning_rate': 0.1, 'max_depth': 7, 'n_estimators': 5}\n",
            "0.803 (+/-0.021) for {'learning_rate': 0.1, 'max_depth': 7, 'n_estimators': 50}\n",
            "0.796 (+/-0.046) for {'learning_rate': 0.1, 'max_depth': 7, 'n_estimators': 250}\n",
            "0.798 (+/-0.039) for {'learning_rate': 0.1, 'max_depth': 7, 'n_estimators': 500}\n",
            "0.794 (+/-0.039) for {'learning_rate': 0.1, 'max_depth': 9, 'n_estimators': 5}\n",
            "0.785 (+/-0.027) for {'learning_rate': 0.1, 'max_depth': 9, 'n_estimators': 50}\n",
            "0.788 (+/-0.019) for {'learning_rate': 0.1, 'max_depth': 9, 'n_estimators': 250}\n",
            "0.788 (+/-0.031) for {'learning_rate': 0.1, 'max_depth': 9, 'n_estimators': 500}\n",
            "0.818 (+/-0.099) for {'learning_rate': 1, 'max_depth': 1, 'n_estimators': 5}\n",
            "0.832 (+/-0.081) for {'learning_rate': 1, 'max_depth': 1, 'n_estimators': 50}\n",
            "0.826 (+/-0.077) for {'learning_rate': 1, 'max_depth': 1, 'n_estimators': 250}\n",
            "0.822 (+/-0.081) for {'learning_rate': 1, 'max_depth': 1, 'n_estimators': 500}\n",
            "0.82 (+/-0.061) for {'learning_rate': 1, 'max_depth': 3, 'n_estimators': 5}\n",
            "0.801 (+/-0.023) for {'learning_rate': 1, 'max_depth': 3, 'n_estimators': 50}\n",
            "0.788 (+/-0.032) for {'learning_rate': 1, 'max_depth': 3, 'n_estimators': 250}\n",
            "0.787 (+/-0.028) for {'learning_rate': 1, 'max_depth': 3, 'n_estimators': 500}\n",
            "0.792 (+/-0.027) for {'learning_rate': 1, 'max_depth': 5, 'n_estimators': 5}\n",
            "0.802 (+/-0.031) for {'learning_rate': 1, 'max_depth': 5, 'n_estimators': 50}\n",
            "0.802 (+/-0.046) for {'learning_rate': 1, 'max_depth': 5, 'n_estimators': 250}\n",
            "0.796 (+/-0.027) for {'learning_rate': 1, 'max_depth': 5, 'n_estimators': 500}\n",
            "0.798 (+/-0.043) for {'learning_rate': 1, 'max_depth': 7, 'n_estimators': 5}\n",
            "0.787 (+/-0.043) for {'learning_rate': 1, 'max_depth': 7, 'n_estimators': 50}\n",
            "0.794 (+/-0.033) for {'learning_rate': 1, 'max_depth': 7, 'n_estimators': 250}\n",
            "0.794 (+/-0.045) for {'learning_rate': 1, 'max_depth': 7, 'n_estimators': 500}\n",
            "0.783 (+/-0.03) for {'learning_rate': 1, 'max_depth': 9, 'n_estimators': 5}\n",
            "0.781 (+/-0.037) for {'learning_rate': 1, 'max_depth': 9, 'n_estimators': 50}\n",
            "0.794 (+/-0.043) for {'learning_rate': 1, 'max_depth': 9, 'n_estimators': 250}\n",
            "0.79 (+/-0.03) for {'learning_rate': 1, 'max_depth': 9, 'n_estimators': 500}\n",
            "0.204 (+/-0.115) for {'learning_rate': 10, 'max_depth': 1, 'n_estimators': 5}\n",
            "0.204 (+/-0.115) for {'learning_rate': 10, 'max_depth': 1, 'n_estimators': 50}\n",
            "0.204 (+/-0.115) for {'learning_rate': 10, 'max_depth': 1, 'n_estimators': 250}\n",
            "0.204 (+/-0.115) for {'learning_rate': 10, 'max_depth': 1, 'n_estimators': 500}\n",
            "0.307 (+/-0.195) for {'learning_rate': 10, 'max_depth': 3, 'n_estimators': 5}\n",
            "0.307 (+/-0.195) for {'learning_rate': 10, 'max_depth': 3, 'n_estimators': 50}\n",
            "0.307 (+/-0.195) for {'learning_rate': 10, 'max_depth': 3, 'n_estimators': 250}\n",
            "0.307 (+/-0.195) for {'learning_rate': 10, 'max_depth': 3, 'n_estimators': 500}\n",
            "0.468 (+/-0.311) for {'learning_rate': 10, 'max_depth': 5, 'n_estimators': 5}\n",
            "0.443 (+/-0.311) for {'learning_rate': 10, 'max_depth': 5, 'n_estimators': 50}\n",
            "0.397 (+/-0.198) for {'learning_rate': 10, 'max_depth': 5, 'n_estimators': 250}\n",
            "0.399 (+/-0.203) for {'learning_rate': 10, 'max_depth': 5, 'n_estimators': 500}\n",
            "0.642 (+/-0.185) for {'learning_rate': 10, 'max_depth': 7, 'n_estimators': 5}\n",
            "0.65 (+/-0.17) for {'learning_rate': 10, 'max_depth': 7, 'n_estimators': 50}\n",
            "0.59 (+/-0.153) for {'learning_rate': 10, 'max_depth': 7, 'n_estimators': 250}\n",
            "0.637 (+/-0.139) for {'learning_rate': 10, 'max_depth': 7, 'n_estimators': 500}\n",
            "0.712 (+/-0.145) for {'learning_rate': 10, 'max_depth': 9, 'n_estimators': 5}\n",
            "0.706 (+/-0.128) for {'learning_rate': 10, 'max_depth': 9, 'n_estimators': 50}\n",
            "0.702 (+/-0.136) for {'learning_rate': 10, 'max_depth': 9, 'n_estimators': 250}\n",
            "0.68 (+/-0.127) for {'learning_rate': 10, 'max_depth': 9, 'n_estimators': 500}\n",
            "0.376 (+/-0.007) for {'learning_rate': 100, 'max_depth': 1, 'n_estimators': 5}\n",
            "0.376 (+/-0.007) for {'learning_rate': 100, 'max_depth': 1, 'n_estimators': 50}\n",
            "0.376 (+/-0.007) for {'learning_rate': 100, 'max_depth': 1, 'n_estimators': 250}\n",
            "0.376 (+/-0.007) for {'learning_rate': 100, 'max_depth': 1, 'n_estimators': 500}\n",
            "0.29 (+/-0.102) for {'learning_rate': 100, 'max_depth': 3, 'n_estimators': 5}\n",
            "0.29 (+/-0.102) for {'learning_rate': 100, 'max_depth': 3, 'n_estimators': 50}\n",
            "0.29 (+/-0.102) for {'learning_rate': 100, 'max_depth': 3, 'n_estimators': 250}\n",
            "0.29 (+/-0.102) for {'learning_rate': 100, 'max_depth': 3, 'n_estimators': 500}\n",
            "0.363 (+/-0.195) for {'learning_rate': 100, 'max_depth': 5, 'n_estimators': 5}\n",
            "0.354 (+/-0.182) for {'learning_rate': 100, 'max_depth': 5, 'n_estimators': 50}\n",
            "0.348 (+/-0.183) for {'learning_rate': 100, 'max_depth': 5, 'n_estimators': 250}\n",
            "0.348 (+/-0.183) for {'learning_rate': 100, 'max_depth': 5, 'n_estimators': 500}\n",
            "0.573 (+/-0.11) for {'learning_rate': 100, 'max_depth': 7, 'n_estimators': 5}\n",
            "0.577 (+/-0.117) for {'learning_rate': 100, 'max_depth': 7, 'n_estimators': 50}\n",
            "0.592 (+/-0.099) for {'learning_rate': 100, 'max_depth': 7, 'n_estimators': 250}\n",
            "0.592 (+/-0.106) for {'learning_rate': 100, 'max_depth': 7, 'n_estimators': 500}\n",
            "0.676 (+/-0.074) for {'learning_rate': 100, 'max_depth': 9, 'n_estimators': 5}\n",
            "0.655 (+/-0.067) for {'learning_rate': 100, 'max_depth': 9, 'n_estimators': 50}\n",
            "0.659 (+/-0.086) for {'learning_rate': 100, 'max_depth': 9, 'n_estimators': 250}\n",
            "0.657 (+/-0.044) for {'learning_rate': 100, 'max_depth': 9, 'n_estimators': 500}\n"
          ],
          "name": "stdout"
        }
      ]
    },
    {
      "cell_type": "code",
      "metadata": {
        "colab": {
          "base_uri": "https://localhost:8080/"
        },
        "id": "pcRQYWnNPr-O",
        "outputId": "c054a597-e37b-4c19-e525-13525f7a088f"
      },
      "source": [
        "model = cv.best_estimator_\n",
        "model"
      ],
      "execution_count": 9,
      "outputs": [
        {
          "output_type": "execute_result",
          "data": {
            "text/plain": [
              "GradientBoostingClassifier(ccp_alpha=0.0, criterion='friedman_mse', init=None,\n",
              "                           learning_rate=0.01, loss='deviance', max_depth=3,\n",
              "                           max_features=None, max_leaf_nodes=None,\n",
              "                           min_impurity_decrease=0.0, min_impurity_split=None,\n",
              "                           min_samples_leaf=1, min_samples_split=2,\n",
              "                           min_weight_fraction_leaf=0.0, n_estimators=500,\n",
              "                           n_iter_no_change=None, presort='deprecated',\n",
              "                           random_state=None, subsample=1.0, tol=0.0001,\n",
              "                           validation_fraction=0.1, verbose=0,\n",
              "                           warm_start=False)"
            ]
          },
          "metadata": {
            "tags": []
          },
          "execution_count": 9
        }
      ]
    },
    {
      "cell_type": "markdown",
      "metadata": {
        "id": "3GFrILBkRQsu"
      },
      "source": [
        "####**Pickle the model:**"
      ]
    },
    {
      "cell_type": "code",
      "metadata": {
        "colab": {
          "base_uri": "https://localhost:8080/"
        },
        "id": "bMFEBfjjRPvx",
        "outputId": "9e4452ed-769f-4768-abac-afbd564460f8"
      },
      "source": [
        "joblib.dump(model, 'XGB.pkl')"
      ],
      "execution_count": 10,
      "outputs": [
        {
          "output_type": "execute_result",
          "data": {
            "text/plain": [
              "['XGB.pkl']"
            ]
          },
          "metadata": {
            "tags": []
          },
          "execution_count": 10
        }
      ]
    }
  ]
}